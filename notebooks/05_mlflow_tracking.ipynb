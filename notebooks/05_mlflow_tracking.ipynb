{
 "cells": [
  {
   "cell_type": "code",
   "execution_count": null,
   "metadata": {},
   "outputs": [],
   "source": [
    "import numpy as np\n",
    "import mlflow\n",
    "import mlflow.sklearn\n",
    "from utils.model_utils import train_xgboost\n",
    "\n",
    "X_train = np.load('data/processed/X_train.npy')\n",
    "y_train = np.load('data/processed/y_train.npy')\n",
    "X_test = np.load('data/processed/X_test.npy')\n",
    "y_test = np.load('data/processed/y_test.npy')\n",
    "\n",
    "mlflow.set_experiment('Financial_Risk_Scoring')\n",
    "\n",
    "with mlflow.start_run():\n",
    "    model = train_xgboost(X_train, y_train)\n",
    "    \n",
    "    accuracy = model.score(X_test, y_test)\n",
    "    mlflow.sklearn.log_model(model, \"model\")\n",
    "    mlflow.log_param(\"booster\", \"gbtree\")\n",
    "    mlflow.log_metric(\"accuracy\", accuracy)\n",
    "    \n",
    "    print(\"Logged to MLflow.\")\n"
   ]
  }
 ],
 "metadata": {
  "language_info": {
   "name": "python"
  }
 },
 "nbformat": 4,
 "nbformat_minor": 2
}
