{
 "cells": [
  {
   "cell_type": "code",
   "execution_count": null,
   "metadata": {},
   "outputs": [],
   "source": [
    "import numpy as np\n",
    "from utils.model_utils import train_xgboost, save_pickle_model\n",
    "\n",
    "X_train = np.load('data/processed/X_train.npy')\n",
    "y_train = np.load('data/processed/y_train.npy')\n",
    "\n",
    "model = train_xgboost(X_train, y_train)\n",
    "save_pickle_model(model, 'models/xgboost_model.pkl')"
   ]
  }
 ],
 "metadata": {
  "language_info": {
   "name": "python"
  }
 },
 "nbformat": 4,
 "nbformat_minor": 2
}
