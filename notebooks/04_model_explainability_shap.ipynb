{
 "cells": [
  {
   "cell_type": "code",
   "execution_count": null,
   "metadata": {},
   "outputs": [],
   "source": [
    "import numpy as np\n",
    "import pickle\n",
    "from utils.explain_utils import explain_xgboost_model\n",
    "\n",
    "X_test = np.load('data/processed/X_test.npy')\n",
    "\n",
    "with open('models/xgboost_model.pkl', 'rb') as f:\n",
    "    model = pickle.load(f)\n",
    "\n",
    "explain_xgboost_model(model, X_test[:100])"
   ]
  }
 ],
 "metadata": {
  "language_info": {
   "name": "python"
  }
 },
 "nbformat": 4,
 "nbformat_minor": 2
}
