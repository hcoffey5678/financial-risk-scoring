{
 "cells": [
  {
   "cell_type": "code",
   "execution_count": null,
   "metadata": {},
   "outputs": [],
   "source": [
    "import numpy as np\n",
    "from utils.model_utils import build_tensorflow_model\n",
    "\n",
    "X_train = np.load('data/processed/X_train.npy')\n",
    "y_train = np.load('data/processed/y_train.npy')\n",
    "\n",
    "model = build_tensorflow_model(X_train.shape[1])\n",
    "model.fit(X_train, y_train, validation_split=0.2, epochs=20, batch_size=32)\n",
    "model.save('models/tensorflow_model.h5')"
   ]
  }
 ],
 "metadata": {
  "language_info": {
   "name": "python"
  }
 },
 "nbformat": 4,
 "nbformat_minor": 2
}
